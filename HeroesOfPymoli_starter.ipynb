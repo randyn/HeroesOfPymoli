{
 "cells": [
  {
   "cell_type": "markdown",
   "metadata": {},
   "source": [
    "### Heroes Of Pymoli Data Analysis\n",
    "* Of the 1163 active players, the vast majority are male (84%). There also exists, a smaller, but notable proportion of female players (14%).\n",
    "\n",
    "* Our peak age demographic falls between 20-24 (44.8%) with secondary groups falling between 15-19 (18.60%) and 25-29 (13.4%).  \n",
    "-----"
   ]
  },
  {
   "cell_type": "markdown",
   "metadata": {},
   "source": [
    "### Note\n",
    "* Instructions have been included for each segment. You do not have to follow them exactly, but they are included to help you think through the steps."
   ]
  },
  {
   "cell_type": "code",
   "execution_count": 1,
   "metadata": {},
   "outputs": [
    {
     "data": {
      "application/javascript": [
       "IPython.notebook.set_autosave_interval(60000)"
      ]
     },
     "metadata": {},
     "output_type": "display_data"
    },
    {
     "name": "stdout",
     "output_type": "stream",
     "text": [
      "Autosaving every 60 seconds\n"
     ]
    }
   ],
   "source": [
    "%autosave 60"
   ]
  },
  {
   "cell_type": "code",
   "execution_count": 2,
   "metadata": {},
   "outputs": [],
   "source": [
    "# Dependencies and Setup\n",
    "import pandas as pd\n",
    "import numpy as np\n",
    "\n",
    "# File to Load (Remember to Change These)\n",
    "file_to_load = \"Resources/purchase_data.csv\"\n",
    "\n",
    "# Read Purchasing File and store into Pandas data frame\n",
    "purchase_data = pd.read_csv(file_to_load)"
   ]
  },
  {
   "cell_type": "markdown",
   "metadata": {},
   "source": [
    "## Player Count"
   ]
  },
  {
   "cell_type": "markdown",
   "metadata": {},
   "source": [
    "* Display the total number of players\n"
   ]
  },
  {
   "cell_type": "code",
   "execution_count": 3,
   "metadata": {},
   "outputs": [
    {
     "data": {
      "text/html": [
       "<div>\n",
       "<style scoped>\n",
       "    .dataframe tbody tr th:only-of-type {\n",
       "        vertical-align: middle;\n",
       "    }\n",
       "\n",
       "    .dataframe tbody tr th {\n",
       "        vertical-align: top;\n",
       "    }\n",
       "\n",
       "    .dataframe thead th {\n",
       "        text-align: right;\n",
       "    }\n",
       "</style>\n",
       "<table border=\"1\" class=\"dataframe\">\n",
       "  <thead>\n",
       "    <tr style=\"text-align: right;\">\n",
       "      <th></th>\n",
       "      <th>Total Players</th>\n",
       "    </tr>\n",
       "  </thead>\n",
       "  <tbody>\n",
       "    <tr>\n",
       "      <th>0</th>\n",
       "      <td>576</td>\n",
       "    </tr>\n",
       "  </tbody>\n",
       "</table>\n",
       "</div>"
      ],
      "text/plain": [
       "   Total Players\n",
       "0            576"
      ]
     },
     "execution_count": 3,
     "metadata": {},
     "output_type": "execute_result"
    }
   ],
   "source": [
    "unique_players = purchase_data[\"SN\"].unique()\n",
    "unique_player_count = len(unique_players)\n",
    "pd.DataFrame([\n",
    "    {\"Total Players\": len(unique_players)}\n",
    "])"
   ]
  },
  {
   "cell_type": "markdown",
   "metadata": {},
   "source": [
    "## Purchasing Analysis (Total)"
   ]
  },
  {
   "cell_type": "markdown",
   "metadata": {},
   "source": [
    "* Run basic calculations to obtain number of unique items, average price, etc.\n",
    "\n",
    "\n",
    "* Create a summary data frame to hold the results\n",
    "\n",
    "\n",
    "* Optional: give the displayed data cleaner formatting\n",
    "\n",
    "\n",
    "* Display the summary data frame\n"
   ]
  },
  {
   "cell_type": "code",
   "execution_count": 4,
   "metadata": {},
   "outputs": [],
   "source": [
    "moneyFormat = \"${:,.2f}\".format\n",
    "\n",
    "def basicDFStyle(df, money_columns=[], bold_columns=[]):\n",
    "    return df.style.format(\"${:,.2f}\", pd.IndexSlice[:, money_columns])\\\n",
    "        .applymap(lambda x:\"font-weight: bold\", subset=pd.IndexSlice[:, bold_columns])\n"
   ]
  },
  {
   "cell_type": "code",
   "execution_count": 5,
   "metadata": {
    "scrolled": true
   },
   "outputs": [
    {
     "data": {
      "text/html": [
       "<div>\n",
       "<style scoped>\n",
       "    .dataframe tbody tr th:only-of-type {\n",
       "        vertical-align: middle;\n",
       "    }\n",
       "\n",
       "    .dataframe tbody tr th {\n",
       "        vertical-align: top;\n",
       "    }\n",
       "\n",
       "    .dataframe thead th {\n",
       "        text-align: right;\n",
       "    }\n",
       "</style>\n",
       "<table border=\"1\" class=\"dataframe\">\n",
       "  <thead>\n",
       "    <tr style=\"text-align: right;\">\n",
       "      <th></th>\n",
       "      <th>Number of Unique Items</th>\n",
       "      <th>Average Price</th>\n",
       "      <th>Number of Purchases</th>\n",
       "      <th>Total Revenue</th>\n",
       "    </tr>\n",
       "  </thead>\n",
       "  <tbody>\n",
       "    <tr>\n",
       "      <th>0</th>\n",
       "      <td>183</td>\n",
       "      <td>$3.05</td>\n",
       "      <td>780</td>\n",
       "      <td>$2379.77</td>\n",
       "    </tr>\n",
       "  </tbody>\n",
       "</table>\n",
       "</div>"
      ],
      "text/plain": [
       "   Number of Unique Items Average Price  Number of Purchases Total Revenue\n",
       "0                     183         $3.05                  780      $2379.77"
      ]
     },
     "execution_count": 5,
     "metadata": {},
     "output_type": "execute_result"
    }
   ],
   "source": [
    "unique_item_count = len(purchase_data[\"Item ID\"].unique())\n",
    "average_price = f\"${round(purchase_data.Price.mean(), 2)}\"\n",
    "unique_purchase_count = len(purchase_data[\"Purchase ID\"].unique())\n",
    "total_revenue = f\"${purchase_data.Price.sum()}\"\n",
    "purchase_data.head()\n",
    "pd.DataFrame({\n",
    "    \"Number of Unique Items\": unique_item_count,\n",
    "    \"Average Price\": average_price,\n",
    "    \"Number of Purchases\": unique_purchase_count,\n",
    "    \"Total Revenue\": total_revenue\n",
    "}, index=[0])"
   ]
  },
  {
   "cell_type": "markdown",
   "metadata": {},
   "source": [
    "## Gender Demographics"
   ]
  },
  {
   "cell_type": "markdown",
   "metadata": {},
   "source": [
    "* Percentage and Count of Male Players\n",
    "\n",
    "\n",
    "* Percentage and Count of Female Players\n",
    "\n",
    "\n",
    "* Percentage and Count of Other / Non-Disclosed\n",
    "\n",
    "\n"
   ]
  },
  {
   "cell_type": "code",
   "execution_count": 6,
   "metadata": {},
   "outputs": [
    {
     "data": {
      "text/html": [
       "<style  type=\"text/css\" >\n",
       "</style>  \n",
       "<table id=\"T_f8e73110_16d7_11e9_81af_dca9047fe08d\" > \n",
       "<thead>    <tr> \n",
       "        <th class=\"blank level0\" ></th> \n",
       "        <th class=\"col_heading level0 col0\" >Total Count</th> \n",
       "        <th class=\"col_heading level0 col1\" >Percentage of Players</th> \n",
       "    </tr>    <tr> \n",
       "        <th class=\"index_name level0\" >Gender</th> \n",
       "        <th class=\"blank\" ></th> \n",
       "        <th class=\"blank\" ></th> \n",
       "    </tr></thead> \n",
       "<tbody>    <tr> \n",
       "        <th id=\"T_f8e73110_16d7_11e9_81af_dca9047fe08dlevel0_row0\" class=\"row_heading level0 row0\" >Male</th> \n",
       "        <td id=\"T_f8e73110_16d7_11e9_81af_dca9047fe08drow0_col0\" class=\"data row0 col0\" >484</td> \n",
       "        <td id=\"T_f8e73110_16d7_11e9_81af_dca9047fe08drow0_col1\" class=\"data row0 col1\" >84.03</td> \n",
       "    </tr>    <tr> \n",
       "        <th id=\"T_f8e73110_16d7_11e9_81af_dca9047fe08dlevel0_row1\" class=\"row_heading level0 row1\" >Female</th> \n",
       "        <td id=\"T_f8e73110_16d7_11e9_81af_dca9047fe08drow1_col0\" class=\"data row1 col0\" >81</td> \n",
       "        <td id=\"T_f8e73110_16d7_11e9_81af_dca9047fe08drow1_col1\" class=\"data row1 col1\" >14.06</td> \n",
       "    </tr>    <tr> \n",
       "        <th id=\"T_f8e73110_16d7_11e9_81af_dca9047fe08dlevel0_row2\" class=\"row_heading level0 row2\" >Other / Non-Disclosed</th> \n",
       "        <td id=\"T_f8e73110_16d7_11e9_81af_dca9047fe08drow2_col0\" class=\"data row2 col0\" >11</td> \n",
       "        <td id=\"T_f8e73110_16d7_11e9_81af_dca9047fe08drow2_col1\" class=\"data row2 col1\" >1.91</td> \n",
       "    </tr></tbody> \n",
       "</table> "
      ],
      "text/plain": [
       "<pandas.io.formats.style.Styler at 0x114a4a6a0>"
      ]
     },
     "execution_count": 6,
     "metadata": {},
     "output_type": "execute_result"
    }
   ],
   "source": [
    "player_gender_data = purchase_data[[\"SN\", \"Gender\"]].drop_duplicates()\n",
    "gender_demographics = player_gender_data.groupby(\"Gender\").count()\n",
    "gender_demographics = gender_demographics.rename(columns={\n",
    "    \"SN\": \"Total Count\"\n",
    "})\n",
    "gender_demographics[\"Percentage of Players\"] = gender_demographics[\"Total Count\"] / unique_player_count * 100\n",
    "gender_demographics = gender_demographics.loc[[\"Male\", \"Female\", \"Other / Non-Disclosed\"], :]\n",
    "gender_demographics.style.format(\"{:.2f}\", pd.IndexSlice[:, \"Percentage of Players\"])"
   ]
  },
  {
   "cell_type": "markdown",
   "metadata": {},
   "source": [
    "\n",
    "## Purchasing Analysis (Gender)"
   ]
  },
  {
   "cell_type": "markdown",
   "metadata": {},
   "source": [
    "* Run basic calculations to obtain purchase count, avg. purchase price, avg. purchase total per person etc. by gender\n",
    "\n",
    "\n",
    "\n",
    "\n",
    "* Create a summary data frame to hold the results\n",
    "\n",
    "\n",
    "* Optional: give the displayed data cleaner formatting\n",
    "\n",
    "\n",
    "* Display the summary data frame"
   ]
  },
  {
   "cell_type": "code",
   "execution_count": 7,
   "metadata": {},
   "outputs": [
    {
     "data": {
      "text/html": [
       "<style  type=\"text/css\" >\n",
       "</style>  \n",
       "<table id=\"T_f8eef878_16d7_11e9_a173_dca9047fe08d\" > \n",
       "<thead>    <tr> \n",
       "        <th class=\"blank level0\" ></th> \n",
       "        <th class=\"col_heading level0 col0\" >Purchase Count</th> \n",
       "        <th class=\"col_heading level0 col1\" >Average Purchase Price</th> \n",
       "        <th class=\"col_heading level0 col2\" >Total Purchase Value</th> \n",
       "        <th class=\"col_heading level0 col3\" >Avg Total Purchase per Person</th> \n",
       "    </tr>    <tr> \n",
       "        <th class=\"index_name level0\" >Gender</th> \n",
       "        <th class=\"blank\" ></th> \n",
       "        <th class=\"blank\" ></th> \n",
       "        <th class=\"blank\" ></th> \n",
       "        <th class=\"blank\" ></th> \n",
       "    </tr></thead> \n",
       "<tbody>    <tr> \n",
       "        <th id=\"T_f8eef878_16d7_11e9_a173_dca9047fe08dlevel0_row0\" class=\"row_heading level0 row0\" >Female</th> \n",
       "        <td id=\"T_f8eef878_16d7_11e9_a173_dca9047fe08drow0_col0\" class=\"data row0 col0\" >113</td> \n",
       "        <td id=\"T_f8eef878_16d7_11e9_a173_dca9047fe08drow0_col1\" class=\"data row0 col1\" >$3.20</td> \n",
       "        <td id=\"T_f8eef878_16d7_11e9_a173_dca9047fe08drow0_col2\" class=\"data row0 col2\" >$361.94</td> \n",
       "        <td id=\"T_f8eef878_16d7_11e9_a173_dca9047fe08drow0_col3\" class=\"data row0 col3\" >$4.47</td> \n",
       "    </tr>    <tr> \n",
       "        <th id=\"T_f8eef878_16d7_11e9_a173_dca9047fe08dlevel0_row1\" class=\"row_heading level0 row1\" >Male</th> \n",
       "        <td id=\"T_f8eef878_16d7_11e9_a173_dca9047fe08drow1_col0\" class=\"data row1 col0\" >652</td> \n",
       "        <td id=\"T_f8eef878_16d7_11e9_a173_dca9047fe08drow1_col1\" class=\"data row1 col1\" >$3.02</td> \n",
       "        <td id=\"T_f8eef878_16d7_11e9_a173_dca9047fe08drow1_col2\" class=\"data row1 col2\" >$1,967.64</td> \n",
       "        <td id=\"T_f8eef878_16d7_11e9_a173_dca9047fe08drow1_col3\" class=\"data row1 col3\" >$4.07</td> \n",
       "    </tr>    <tr> \n",
       "        <th id=\"T_f8eef878_16d7_11e9_a173_dca9047fe08dlevel0_row2\" class=\"row_heading level0 row2\" >Other / Non-Disclosed</th> \n",
       "        <td id=\"T_f8eef878_16d7_11e9_a173_dca9047fe08drow2_col0\" class=\"data row2 col0\" >15</td> \n",
       "        <td id=\"T_f8eef878_16d7_11e9_a173_dca9047fe08drow2_col1\" class=\"data row2 col1\" >$3.35</td> \n",
       "        <td id=\"T_f8eef878_16d7_11e9_a173_dca9047fe08drow2_col2\" class=\"data row2 col2\" >$50.19</td> \n",
       "        <td id=\"T_f8eef878_16d7_11e9_a173_dca9047fe08drow2_col3\" class=\"data row2 col3\" >$4.56</td> \n",
       "    </tr></tbody> \n",
       "</table> "
      ],
      "text/plain": [
       "<pandas.io.formats.style.Styler at 0x115b7f390>"
      ]
     },
     "execution_count": 7,
     "metadata": {},
     "output_type": "execute_result"
    }
   ],
   "source": [
    "aggregate_gender_data = purchase_data.groupby(\"Gender\")\n",
    "aggregate_gender_player_data = purchase_data.groupby([\"Gender\", \"SN\"])\n",
    "\n",
    "total_purchase_by_gender_person = aggregate_gender_player_data[\"Price\"].sum()\n",
    "\n",
    "gender_purchasing_analysis = pd.DataFrame({\n",
    "    \"Purchase Count\": aggregate_gender_data[\"Purchase ID\"].count(),\n",
    "    \"Average Purchase Price\": aggregate_gender_data[\"Price\"].mean(),\n",
    "    \"Total Purchase Value\": aggregate_gender_data[\"Price\"].sum(),\n",
    "    \"Avg Total Purchase per Person\": total_purchase_by_gender_person.groupby(level=0).mean()\n",
    "})\n",
    "\n",
    "basicDFStyle(gender_purchasing_analysis, money_columns=[\"Average Purchase Price\", \"Total Purchase Value\", \"Avg Total Purchase per Person\"])\n"
   ]
  },
  {
   "cell_type": "markdown",
   "metadata": {},
   "source": [
    "## Age Demographics"
   ]
  },
  {
   "cell_type": "markdown",
   "metadata": {},
   "source": [
    "* Establish bins for ages\n",
    "\n",
    "\n",
    "* Categorize the existing players using the age bins. Hint: use pd.cut()\n",
    "\n",
    "\n",
    "* Calculate the numbers and percentages by age group\n",
    "\n",
    "\n",
    "* Create a summary data frame to hold the results\n",
    "\n",
    "\n",
    "* Optional: round the percentage column to two decimal points\n",
    "\n",
    "\n",
    "* Display Age Demographics Table\n"
   ]
  },
  {
   "cell_type": "code",
   "execution_count": 8,
   "metadata": {},
   "outputs": [
    {
     "data": {
      "text/html": [
       "<style  type=\"text/css\" >\n",
       "</style>  \n",
       "<table id=\"T_f8f300ee_16d7_11e9_a529_dca9047fe08d\" > \n",
       "<thead>    <tr> \n",
       "        <th class=\"blank level0\" ></th> \n",
       "        <th class=\"col_heading level0 col0\" >Total Count</th> \n",
       "        <th class=\"col_heading level0 col1\" >Percentage of Players</th> \n",
       "    </tr>    <tr> \n",
       "        <th class=\"index_name level0\" >Age Group</th> \n",
       "        <th class=\"blank\" ></th> \n",
       "        <th class=\"blank\" ></th> \n",
       "    </tr></thead> \n",
       "<tbody>    <tr> \n",
       "        <th id=\"T_f8f300ee_16d7_11e9_a529_dca9047fe08dlevel0_row0\" class=\"row_heading level0 row0\" ><10</th> \n",
       "        <td id=\"T_f8f300ee_16d7_11e9_a529_dca9047fe08drow0_col0\" class=\"data row0 col0\" >17</td> \n",
       "        <td id=\"T_f8f300ee_16d7_11e9_a529_dca9047fe08drow0_col1\" class=\"data row0 col1\" >2.95</td> \n",
       "    </tr>    <tr> \n",
       "        <th id=\"T_f8f300ee_16d7_11e9_a529_dca9047fe08dlevel0_row1\" class=\"row_heading level0 row1\" >10-14</th> \n",
       "        <td id=\"T_f8f300ee_16d7_11e9_a529_dca9047fe08drow1_col0\" class=\"data row1 col0\" >22</td> \n",
       "        <td id=\"T_f8f300ee_16d7_11e9_a529_dca9047fe08drow1_col1\" class=\"data row1 col1\" >3.82</td> \n",
       "    </tr>    <tr> \n",
       "        <th id=\"T_f8f300ee_16d7_11e9_a529_dca9047fe08dlevel0_row2\" class=\"row_heading level0 row2\" >15-19</th> \n",
       "        <td id=\"T_f8f300ee_16d7_11e9_a529_dca9047fe08drow2_col0\" class=\"data row2 col0\" >107</td> \n",
       "        <td id=\"T_f8f300ee_16d7_11e9_a529_dca9047fe08drow2_col1\" class=\"data row2 col1\" >18.58</td> \n",
       "    </tr>    <tr> \n",
       "        <th id=\"T_f8f300ee_16d7_11e9_a529_dca9047fe08dlevel0_row3\" class=\"row_heading level0 row3\" >20-24</th> \n",
       "        <td id=\"T_f8f300ee_16d7_11e9_a529_dca9047fe08drow3_col0\" class=\"data row3 col0\" >258</td> \n",
       "        <td id=\"T_f8f300ee_16d7_11e9_a529_dca9047fe08drow3_col1\" class=\"data row3 col1\" >44.79</td> \n",
       "    </tr>    <tr> \n",
       "        <th id=\"T_f8f300ee_16d7_11e9_a529_dca9047fe08dlevel0_row4\" class=\"row_heading level0 row4\" >25-29</th> \n",
       "        <td id=\"T_f8f300ee_16d7_11e9_a529_dca9047fe08drow4_col0\" class=\"data row4 col0\" >77</td> \n",
       "        <td id=\"T_f8f300ee_16d7_11e9_a529_dca9047fe08drow4_col1\" class=\"data row4 col1\" >13.37</td> \n",
       "    </tr>    <tr> \n",
       "        <th id=\"T_f8f300ee_16d7_11e9_a529_dca9047fe08dlevel0_row5\" class=\"row_heading level0 row5\" >30-34</th> \n",
       "        <td id=\"T_f8f300ee_16d7_11e9_a529_dca9047fe08drow5_col0\" class=\"data row5 col0\" >52</td> \n",
       "        <td id=\"T_f8f300ee_16d7_11e9_a529_dca9047fe08drow5_col1\" class=\"data row5 col1\" >9.03</td> \n",
       "    </tr>    <tr> \n",
       "        <th id=\"T_f8f300ee_16d7_11e9_a529_dca9047fe08dlevel0_row6\" class=\"row_heading level0 row6\" >35-39</th> \n",
       "        <td id=\"T_f8f300ee_16d7_11e9_a529_dca9047fe08drow6_col0\" class=\"data row6 col0\" >31</td> \n",
       "        <td id=\"T_f8f300ee_16d7_11e9_a529_dca9047fe08drow6_col1\" class=\"data row6 col1\" >5.38</td> \n",
       "    </tr>    <tr> \n",
       "        <th id=\"T_f8f300ee_16d7_11e9_a529_dca9047fe08dlevel0_row7\" class=\"row_heading level0 row7\" >40+</th> \n",
       "        <td id=\"T_f8f300ee_16d7_11e9_a529_dca9047fe08drow7_col0\" class=\"data row7 col0\" >12</td> \n",
       "        <td id=\"T_f8f300ee_16d7_11e9_a529_dca9047fe08drow7_col1\" class=\"data row7 col1\" >2.08</td> \n",
       "    </tr></tbody> \n",
       "</table> "
      ],
      "text/plain": [
       "<pandas.io.formats.style.Styler at 0x114a3cf60>"
      ]
     },
     "execution_count": 8,
     "metadata": {},
     "output_type": "execute_result"
    }
   ],
   "source": [
    "bins = [0, *np.arange(9, 40, 5), 999]\n",
    "labels = [\"<10\", \"10-14\", \"15-19\", \"20-24\", \"25-29\", \"30-34\", \"35-39\", \"40+\"]\n",
    "\n",
    "\n",
    "purchase_data[\"Age Group\"] = pd.cut(purchase_data[\"Age\"], bins=bins, labels=labels)\n",
    "unique_player_ages = purchase_data.groupby([\"Age Group\", \"SN\"])\n",
    "age_counts = unique_player_ages[\"SN\"].count().groupby(level=0).count()\n",
    "\n",
    "age_demographics = pd.DataFrame({\n",
    "    \"Total Count\": age_counts,\n",
    "    \"Percentage of Players\": (age_counts / len(unique_players) * 100)\n",
    "})\n",
    "age_demographics.style.format(\"{:.2f}\", pd.IndexSlice[:, \"Percentage of Players\"])"
   ]
  },
  {
   "cell_type": "markdown",
   "metadata": {},
   "source": [
    "## Purchasing Analysis (Age)"
   ]
  },
  {
   "cell_type": "markdown",
   "metadata": {},
   "source": [
    "* Bin the purchase_data data frame by age\n",
    "\n",
    "\n",
    "* Run basic calculations to obtain purchase count, avg. purchase price, avg. purchase total per person etc. in the table below\n",
    "\n",
    "\n",
    "* Create a summary data frame to hold the results\n",
    "\n",
    "\n",
    "* Optional: give the displayed data cleaner formatting\n",
    "\n",
    "\n",
    "* Display the summary data frame"
   ]
  },
  {
   "cell_type": "code",
   "execution_count": 9,
   "metadata": {},
   "outputs": [
    {
     "data": {
      "text/html": [
       "<style  type=\"text/css\" >\n",
       "</style>  \n",
       "<table id=\"T_f8f7b314_16d7_11e9_aa29_dca9047fe08d\" > \n",
       "<thead>    <tr> \n",
       "        <th class=\"blank level0\" ></th> \n",
       "        <th class=\"col_heading level0 col0\" >Purchase Count</th> \n",
       "        <th class=\"col_heading level0 col1\" >Average Purchase Price</th> \n",
       "        <th class=\"col_heading level0 col2\" >Total Purchase Value</th> \n",
       "        <th class=\"col_heading level0 col3\" >Avg Total Purchase per Person</th> \n",
       "    </tr>    <tr> \n",
       "        <th class=\"index_name level0\" >Age Group</th> \n",
       "        <th class=\"blank\" ></th> \n",
       "        <th class=\"blank\" ></th> \n",
       "        <th class=\"blank\" ></th> \n",
       "        <th class=\"blank\" ></th> \n",
       "    </tr></thead> \n",
       "<tbody>    <tr> \n",
       "        <th id=\"T_f8f7b314_16d7_11e9_aa29_dca9047fe08dlevel0_row0\" class=\"row_heading level0 row0\" ><10</th> \n",
       "        <td id=\"T_f8f7b314_16d7_11e9_aa29_dca9047fe08drow0_col0\" class=\"data row0 col0\" >23</td> \n",
       "        <td id=\"T_f8f7b314_16d7_11e9_aa29_dca9047fe08drow0_col1\" class=\"data row0 col1\" >$3.35</td> \n",
       "        <td id=\"T_f8f7b314_16d7_11e9_aa29_dca9047fe08drow0_col2\" class=\"data row0 col2\" >$77.13</td> \n",
       "        <td id=\"T_f8f7b314_16d7_11e9_aa29_dca9047fe08drow0_col3\" class=\"data row0 col3\" >$4.54</td> \n",
       "    </tr>    <tr> \n",
       "        <th id=\"T_f8f7b314_16d7_11e9_aa29_dca9047fe08dlevel0_row1\" class=\"row_heading level0 row1\" >10-14</th> \n",
       "        <td id=\"T_f8f7b314_16d7_11e9_aa29_dca9047fe08drow1_col0\" class=\"data row1 col0\" >28</td> \n",
       "        <td id=\"T_f8f7b314_16d7_11e9_aa29_dca9047fe08drow1_col1\" class=\"data row1 col1\" >$2.96</td> \n",
       "        <td id=\"T_f8f7b314_16d7_11e9_aa29_dca9047fe08drow1_col2\" class=\"data row1 col2\" >$82.78</td> \n",
       "        <td id=\"T_f8f7b314_16d7_11e9_aa29_dca9047fe08drow1_col3\" class=\"data row1 col3\" >$3.76</td> \n",
       "    </tr>    <tr> \n",
       "        <th id=\"T_f8f7b314_16d7_11e9_aa29_dca9047fe08dlevel0_row2\" class=\"row_heading level0 row2\" >15-19</th> \n",
       "        <td id=\"T_f8f7b314_16d7_11e9_aa29_dca9047fe08drow2_col0\" class=\"data row2 col0\" >136</td> \n",
       "        <td id=\"T_f8f7b314_16d7_11e9_aa29_dca9047fe08drow2_col1\" class=\"data row2 col1\" >$3.04</td> \n",
       "        <td id=\"T_f8f7b314_16d7_11e9_aa29_dca9047fe08drow2_col2\" class=\"data row2 col2\" >$412.89</td> \n",
       "        <td id=\"T_f8f7b314_16d7_11e9_aa29_dca9047fe08drow2_col3\" class=\"data row2 col3\" >$3.86</td> \n",
       "    </tr>    <tr> \n",
       "        <th id=\"T_f8f7b314_16d7_11e9_aa29_dca9047fe08dlevel0_row3\" class=\"row_heading level0 row3\" >20-24</th> \n",
       "        <td id=\"T_f8f7b314_16d7_11e9_aa29_dca9047fe08drow3_col0\" class=\"data row3 col0\" >365</td> \n",
       "        <td id=\"T_f8f7b314_16d7_11e9_aa29_dca9047fe08drow3_col1\" class=\"data row3 col1\" >$3.05</td> \n",
       "        <td id=\"T_f8f7b314_16d7_11e9_aa29_dca9047fe08drow3_col2\" class=\"data row3 col2\" >$1,114.06</td> \n",
       "        <td id=\"T_f8f7b314_16d7_11e9_aa29_dca9047fe08drow3_col3\" class=\"data row3 col3\" >$4.32</td> \n",
       "    </tr>    <tr> \n",
       "        <th id=\"T_f8f7b314_16d7_11e9_aa29_dca9047fe08dlevel0_row4\" class=\"row_heading level0 row4\" >25-29</th> \n",
       "        <td id=\"T_f8f7b314_16d7_11e9_aa29_dca9047fe08drow4_col0\" class=\"data row4 col0\" >101</td> \n",
       "        <td id=\"T_f8f7b314_16d7_11e9_aa29_dca9047fe08drow4_col1\" class=\"data row4 col1\" >$2.90</td> \n",
       "        <td id=\"T_f8f7b314_16d7_11e9_aa29_dca9047fe08drow4_col2\" class=\"data row4 col2\" >$293.00</td> \n",
       "        <td id=\"T_f8f7b314_16d7_11e9_aa29_dca9047fe08drow4_col3\" class=\"data row4 col3\" >$3.81</td> \n",
       "    </tr>    <tr> \n",
       "        <th id=\"T_f8f7b314_16d7_11e9_aa29_dca9047fe08dlevel0_row5\" class=\"row_heading level0 row5\" >30-34</th> \n",
       "        <td id=\"T_f8f7b314_16d7_11e9_aa29_dca9047fe08drow5_col0\" class=\"data row5 col0\" >73</td> \n",
       "        <td id=\"T_f8f7b314_16d7_11e9_aa29_dca9047fe08drow5_col1\" class=\"data row5 col1\" >$2.93</td> \n",
       "        <td id=\"T_f8f7b314_16d7_11e9_aa29_dca9047fe08drow5_col2\" class=\"data row5 col2\" >$214.00</td> \n",
       "        <td id=\"T_f8f7b314_16d7_11e9_aa29_dca9047fe08drow5_col3\" class=\"data row5 col3\" >$4.12</td> \n",
       "    </tr>    <tr> \n",
       "        <th id=\"T_f8f7b314_16d7_11e9_aa29_dca9047fe08dlevel0_row6\" class=\"row_heading level0 row6\" >35-39</th> \n",
       "        <td id=\"T_f8f7b314_16d7_11e9_aa29_dca9047fe08drow6_col0\" class=\"data row6 col0\" >41</td> \n",
       "        <td id=\"T_f8f7b314_16d7_11e9_aa29_dca9047fe08drow6_col1\" class=\"data row6 col1\" >$3.60</td> \n",
       "        <td id=\"T_f8f7b314_16d7_11e9_aa29_dca9047fe08drow6_col2\" class=\"data row6 col2\" >$147.67</td> \n",
       "        <td id=\"T_f8f7b314_16d7_11e9_aa29_dca9047fe08drow6_col3\" class=\"data row6 col3\" >$4.76</td> \n",
       "    </tr>    <tr> \n",
       "        <th id=\"T_f8f7b314_16d7_11e9_aa29_dca9047fe08dlevel0_row7\" class=\"row_heading level0 row7\" >40+</th> \n",
       "        <td id=\"T_f8f7b314_16d7_11e9_aa29_dca9047fe08drow7_col0\" class=\"data row7 col0\" >13</td> \n",
       "        <td id=\"T_f8f7b314_16d7_11e9_aa29_dca9047fe08drow7_col1\" class=\"data row7 col1\" >$2.94</td> \n",
       "        <td id=\"T_f8f7b314_16d7_11e9_aa29_dca9047fe08drow7_col2\" class=\"data row7 col2\" >$38.24</td> \n",
       "        <td id=\"T_f8f7b314_16d7_11e9_aa29_dca9047fe08drow7_col3\" class=\"data row7 col3\" >$3.19</td> \n",
       "    </tr></tbody> \n",
       "</table> "
      ],
      "text/plain": [
       "<pandas.io.formats.style.Styler at 0x115b7f780>"
      ]
     },
     "execution_count": 9,
     "metadata": {},
     "output_type": "execute_result"
    }
   ],
   "source": [
    "aggregate_age_group = purchase_data.groupby(\"Age Group\")\n",
    "\n",
    "age_purchasing_analysis = pd.DataFrame({\n",
    "    \"Purchase Count\": aggregate_age_group[\"Purchase ID\"].count(),\n",
    "    \"Average Purchase Price\": aggregate_age_group[\"Price\"].mean(),\n",
    "    \"Total Purchase Value\": aggregate_age_group[\"Price\"].sum(),\n",
    "    \"Avg Total Purchase per Person\": unique_player_ages[\"Price\"].sum().groupby(level=0).mean(),\n",
    "})\n",
    "basicDFStyle(df=age_purchasing_analysis, money_columns=[\"Average Purchase Price\", \"Total Purchase Value\", \"Avg Total Purchase per Person\"])\n"
   ]
  },
  {
   "cell_type": "markdown",
   "metadata": {},
   "source": [
    "## Top Spenders"
   ]
  },
  {
   "cell_type": "markdown",
   "metadata": {},
   "source": [
    "* Run basic calculations to obtain the results in the table below\n",
    "\n",
    "\n",
    "* Create a summary data frame to hold the results\n",
    "\n",
    "\n",
    "* Sort the total purchase value column in descending order\n",
    "\n",
    "\n",
    "* Optional: give the displayed data cleaner formatting\n",
    "\n",
    "\n",
    "* Display a preview of the summary data frame\n",
    "\n"
   ]
  },
  {
   "cell_type": "code",
   "execution_count": 10,
   "metadata": {},
   "outputs": [
    {
     "data": {
      "text/html": [
       "<style  type=\"text/css\" >\n",
       "</style>  \n",
       "<table id=\"T_f8fd30c8_16d7_11e9_a8be_dca9047fe08d\" > \n",
       "<thead>    <tr> \n",
       "        <th class=\"blank level0\" ></th> \n",
       "        <th class=\"col_heading level0 col0\" >Purchase Count</th> \n",
       "        <th class=\"col_heading level0 col1\" >Average Purchase Price</th> \n",
       "        <th class=\"col_heading level0 col2\" >Total Purchase Value</th> \n",
       "    </tr>    <tr> \n",
       "        <th class=\"index_name level0\" >SN</th> \n",
       "        <th class=\"blank\" ></th> \n",
       "        <th class=\"blank\" ></th> \n",
       "        <th class=\"blank\" ></th> \n",
       "    </tr></thead> \n",
       "<tbody>    <tr> \n",
       "        <th id=\"T_f8fd30c8_16d7_11e9_a8be_dca9047fe08dlevel0_row0\" class=\"row_heading level0 row0\" >Lisosia93</th> \n",
       "        <td id=\"T_f8fd30c8_16d7_11e9_a8be_dca9047fe08drow0_col0\" class=\"data row0 col0\" >5</td> \n",
       "        <td id=\"T_f8fd30c8_16d7_11e9_a8be_dca9047fe08drow0_col1\" class=\"data row0 col1\" >$3.79</td> \n",
       "        <td id=\"T_f8fd30c8_16d7_11e9_a8be_dca9047fe08drow0_col2\" class=\"data row0 col2\" >$18.96</td> \n",
       "    </tr>    <tr> \n",
       "        <th id=\"T_f8fd30c8_16d7_11e9_a8be_dca9047fe08dlevel0_row1\" class=\"row_heading level0 row1\" >Idastidru52</th> \n",
       "        <td id=\"T_f8fd30c8_16d7_11e9_a8be_dca9047fe08drow1_col0\" class=\"data row1 col0\" >4</td> \n",
       "        <td id=\"T_f8fd30c8_16d7_11e9_a8be_dca9047fe08drow1_col1\" class=\"data row1 col1\" >$3.86</td> \n",
       "        <td id=\"T_f8fd30c8_16d7_11e9_a8be_dca9047fe08drow1_col2\" class=\"data row1 col2\" >$15.45</td> \n",
       "    </tr>    <tr> \n",
       "        <th id=\"T_f8fd30c8_16d7_11e9_a8be_dca9047fe08dlevel0_row2\" class=\"row_heading level0 row2\" >Chamjask73</th> \n",
       "        <td id=\"T_f8fd30c8_16d7_11e9_a8be_dca9047fe08drow2_col0\" class=\"data row2 col0\" >3</td> \n",
       "        <td id=\"T_f8fd30c8_16d7_11e9_a8be_dca9047fe08drow2_col1\" class=\"data row2 col1\" >$4.61</td> \n",
       "        <td id=\"T_f8fd30c8_16d7_11e9_a8be_dca9047fe08drow2_col2\" class=\"data row2 col2\" >$13.83</td> \n",
       "    </tr>    <tr> \n",
       "        <th id=\"T_f8fd30c8_16d7_11e9_a8be_dca9047fe08dlevel0_row3\" class=\"row_heading level0 row3\" >Iral74</th> \n",
       "        <td id=\"T_f8fd30c8_16d7_11e9_a8be_dca9047fe08drow3_col0\" class=\"data row3 col0\" >4</td> \n",
       "        <td id=\"T_f8fd30c8_16d7_11e9_a8be_dca9047fe08drow3_col1\" class=\"data row3 col1\" >$3.40</td> \n",
       "        <td id=\"T_f8fd30c8_16d7_11e9_a8be_dca9047fe08drow3_col2\" class=\"data row3 col2\" >$13.62</td> \n",
       "    </tr>    <tr> \n",
       "        <th id=\"T_f8fd30c8_16d7_11e9_a8be_dca9047fe08dlevel0_row4\" class=\"row_heading level0 row4\" >Iskadarya95</th> \n",
       "        <td id=\"T_f8fd30c8_16d7_11e9_a8be_dca9047fe08drow4_col0\" class=\"data row4 col0\" >3</td> \n",
       "        <td id=\"T_f8fd30c8_16d7_11e9_a8be_dca9047fe08drow4_col1\" class=\"data row4 col1\" >$4.37</td> \n",
       "        <td id=\"T_f8fd30c8_16d7_11e9_a8be_dca9047fe08drow4_col2\" class=\"data row4 col2\" >$13.10</td> \n",
       "    </tr></tbody> \n",
       "</table> "
      ],
      "text/plain": [
       "<pandas.io.formats.style.Styler at 0x115c06780>"
      ]
     },
     "execution_count": 10,
     "metadata": {},
     "output_type": "execute_result"
    }
   ],
   "source": [
    "user_aggregate_df = purchase_data.groupby(\"SN\")\n",
    "top_spenders = pd.DataFrame({\n",
    "    \"Purchase Count\": user_aggregate_df[\"Purchase ID\"].count(),\n",
    "    \"Average Purchase Price\": user_aggregate_df[\"Price\"].mean(),\n",
    "    \"Total Purchase Value\": user_aggregate_df[\"Price\"].sum()\n",
    "}).sort_values(\"Total Purchase Value\", ascending=False)\n",
    "\n",
    "basicDFStyle(df=top_spenders.head(), money_columns=[\"Average Purchase Price\", \"Total Purchase Value\"])"
   ]
  },
  {
   "cell_type": "markdown",
   "metadata": {},
   "source": [
    "## Most Popular Items"
   ]
  },
  {
   "cell_type": "markdown",
   "metadata": {},
   "source": [
    "* Retrieve the Item ID, Item Name, and Item Price columns\n",
    "\n",
    "\n",
    "* Group by Item ID and Item Name. Perform calculations to obtain purchase count, item price, and total purchase value\n",
    "\n",
    "\n",
    "* Create a summary data frame to hold the results\n",
    "\n",
    "\n",
    "* Sort the purchase count column in descending order\n",
    "\n",
    "\n",
    "* Optional: give the displayed data cleaner formatting\n",
    "\n",
    "\n",
    "* Display a preview of the summary data frame\n",
    "\n"
   ]
  },
  {
   "cell_type": "code",
   "execution_count": 11,
   "metadata": {},
   "outputs": [
    {
     "data": {
      "text/html": [
       "<style  type=\"text/css\" >\n",
       "    #T_f903c0b4_16d7_11e9_9e3e_dca9047fe08drow0_col0 {\n",
       "            font-weight:  bold;\n",
       "        }    #T_f903c0b4_16d7_11e9_9e3e_dca9047fe08drow1_col0 {\n",
       "            font-weight:  bold;\n",
       "        }    #T_f903c0b4_16d7_11e9_9e3e_dca9047fe08drow2_col0 {\n",
       "            font-weight:  bold;\n",
       "        }    #T_f903c0b4_16d7_11e9_9e3e_dca9047fe08drow3_col0 {\n",
       "            font-weight:  bold;\n",
       "        }    #T_f903c0b4_16d7_11e9_9e3e_dca9047fe08drow4_col0 {\n",
       "            font-weight:  bold;\n",
       "        }</style>  \n",
       "<table id=\"T_f903c0b4_16d7_11e9_9e3e_dca9047fe08d\" > \n",
       "<thead>    <tr> \n",
       "        <th class=\"blank level0\" ></th> \n",
       "        <th class=\"col_heading level0 col0\" >Item Name</th> \n",
       "        <th class=\"col_heading level0 col1\" >Purchase Count</th> \n",
       "        <th class=\"col_heading level0 col2\" >Item Price</th> \n",
       "        <th class=\"col_heading level0 col3\" >Total Purchase Value</th> \n",
       "    </tr>    <tr> \n",
       "        <th class=\"index_name level0\" >Item ID</th> \n",
       "        <th class=\"blank\" ></th> \n",
       "        <th class=\"blank\" ></th> \n",
       "        <th class=\"blank\" ></th> \n",
       "        <th class=\"blank\" ></th> \n",
       "    </tr></thead> \n",
       "<tbody>    <tr> \n",
       "        <th id=\"T_f903c0b4_16d7_11e9_9e3e_dca9047fe08dlevel0_row0\" class=\"row_heading level0 row0\" >178</th> \n",
       "        <td id=\"T_f903c0b4_16d7_11e9_9e3e_dca9047fe08drow0_col0\" class=\"data row0 col0\" >Oathbreaker, Last Hope of the Breaking Storm</td> \n",
       "        <td id=\"T_f903c0b4_16d7_11e9_9e3e_dca9047fe08drow0_col1\" class=\"data row0 col1\" >12</td> \n",
       "        <td id=\"T_f903c0b4_16d7_11e9_9e3e_dca9047fe08drow0_col2\" class=\"data row0 col2\" >$4.23</td> \n",
       "        <td id=\"T_f903c0b4_16d7_11e9_9e3e_dca9047fe08drow0_col3\" class=\"data row0 col3\" >$50.76</td> \n",
       "    </tr>    <tr> \n",
       "        <th id=\"T_f903c0b4_16d7_11e9_9e3e_dca9047fe08dlevel0_row1\" class=\"row_heading level0 row1\" >145</th> \n",
       "        <td id=\"T_f903c0b4_16d7_11e9_9e3e_dca9047fe08drow1_col0\" class=\"data row1 col0\" >Fiery Glass Crusader</td> \n",
       "        <td id=\"T_f903c0b4_16d7_11e9_9e3e_dca9047fe08drow1_col1\" class=\"data row1 col1\" >9</td> \n",
       "        <td id=\"T_f903c0b4_16d7_11e9_9e3e_dca9047fe08drow1_col2\" class=\"data row1 col2\" >$4.58</td> \n",
       "        <td id=\"T_f903c0b4_16d7_11e9_9e3e_dca9047fe08drow1_col3\" class=\"data row1 col3\" >$41.22</td> \n",
       "    </tr>    <tr> \n",
       "        <th id=\"T_f903c0b4_16d7_11e9_9e3e_dca9047fe08dlevel0_row2\" class=\"row_heading level0 row2\" >108</th> \n",
       "        <td id=\"T_f903c0b4_16d7_11e9_9e3e_dca9047fe08drow2_col0\" class=\"data row2 col0\" >Extraction, Quickblade Of Trembling Hands</td> \n",
       "        <td id=\"T_f903c0b4_16d7_11e9_9e3e_dca9047fe08drow2_col1\" class=\"data row2 col1\" >9</td> \n",
       "        <td id=\"T_f903c0b4_16d7_11e9_9e3e_dca9047fe08drow2_col2\" class=\"data row2 col2\" >$3.53</td> \n",
       "        <td id=\"T_f903c0b4_16d7_11e9_9e3e_dca9047fe08drow2_col3\" class=\"data row2 col3\" >$31.77</td> \n",
       "    </tr>    <tr> \n",
       "        <th id=\"T_f903c0b4_16d7_11e9_9e3e_dca9047fe08dlevel0_row3\" class=\"row_heading level0 row3\" >82</th> \n",
       "        <td id=\"T_f903c0b4_16d7_11e9_9e3e_dca9047fe08drow3_col0\" class=\"data row3 col0\" >Nirvana</td> \n",
       "        <td id=\"T_f903c0b4_16d7_11e9_9e3e_dca9047fe08drow3_col1\" class=\"data row3 col1\" >9</td> \n",
       "        <td id=\"T_f903c0b4_16d7_11e9_9e3e_dca9047fe08drow3_col2\" class=\"data row3 col2\" >$4.90</td> \n",
       "        <td id=\"T_f903c0b4_16d7_11e9_9e3e_dca9047fe08drow3_col3\" class=\"data row3 col3\" >$44.10</td> \n",
       "    </tr>    <tr> \n",
       "        <th id=\"T_f903c0b4_16d7_11e9_9e3e_dca9047fe08dlevel0_row4\" class=\"row_heading level0 row4\" >19</th> \n",
       "        <td id=\"T_f903c0b4_16d7_11e9_9e3e_dca9047fe08drow4_col0\" class=\"data row4 col0\" >Pursuit, Cudgel of Necromancy</td> \n",
       "        <td id=\"T_f903c0b4_16d7_11e9_9e3e_dca9047fe08drow4_col1\" class=\"data row4 col1\" >8</td> \n",
       "        <td id=\"T_f903c0b4_16d7_11e9_9e3e_dca9047fe08drow4_col2\" class=\"data row4 col2\" >$1.02</td> \n",
       "        <td id=\"T_f903c0b4_16d7_11e9_9e3e_dca9047fe08drow4_col3\" class=\"data row4 col3\" >$8.16</td> \n",
       "    </tr></tbody> \n",
       "</table> "
      ],
      "text/plain": [
       "<pandas.io.formats.style.Styler at 0x115c8ebe0>"
      ]
     },
     "execution_count": 11,
     "metadata": {},
     "output_type": "execute_result"
    }
   ],
   "source": [
    "item_aggregate = purchase_data.groupby(\"Item ID\")\n",
    "\n",
    "popular_items = pd.DataFrame({\n",
    "    \"Item Name\": item_aggregate[\"Item Name\"].first(),\n",
    "    \"Purchase Count\": item_aggregate[\"Item Name\"].count(),\n",
    "    \"Item Price\": item_aggregate[\"Price\"].first(),\n",
    "    \"Total Purchase Value\":item_aggregate[\"Price\"].sum()\n",
    "}).sort_values(\"Purchase Count\", ascending=False)\n",
    "\n",
    "basicDFStyle(popular_items.head(), money_columns=[\"Item Price\", \"Total Purchase Value\"], bold_columns=[\"Item Name\"])"
   ]
  },
  {
   "cell_type": "markdown",
   "metadata": {},
   "source": [
    "## Most Profitable Items"
   ]
  },
  {
   "cell_type": "markdown",
   "metadata": {},
   "source": [
    "* Sort the above table by total purchase value in descending order\n",
    "\n",
    "\n",
    "* Optional: give the displayed data cleaner formatting\n",
    "\n",
    "\n",
    "* Display a preview of the data frame\n",
    "\n"
   ]
  },
  {
   "cell_type": "code",
   "execution_count": 12,
   "metadata": {
    "scrolled": true
   },
   "outputs": [
    {
     "data": {
      "text/html": [
       "<style  type=\"text/css\" >\n",
       "    #T_f90a5818_16d7_11e9_b2c4_dca9047fe08drow0_col0 {\n",
       "            font-weight:  bold;\n",
       "        }    #T_f90a5818_16d7_11e9_b2c4_dca9047fe08drow1_col0 {\n",
       "            font-weight:  bold;\n",
       "        }    #T_f90a5818_16d7_11e9_b2c4_dca9047fe08drow2_col0 {\n",
       "            font-weight:  bold;\n",
       "        }    #T_f90a5818_16d7_11e9_b2c4_dca9047fe08drow3_col0 {\n",
       "            font-weight:  bold;\n",
       "        }    #T_f90a5818_16d7_11e9_b2c4_dca9047fe08drow4_col0 {\n",
       "            font-weight:  bold;\n",
       "        }</style>  \n",
       "<table id=\"T_f90a5818_16d7_11e9_b2c4_dca9047fe08d\" > \n",
       "<thead>    <tr> \n",
       "        <th class=\"blank level0\" ></th> \n",
       "        <th class=\"col_heading level0 col0\" >Item Name</th> \n",
       "        <th class=\"col_heading level0 col1\" >Purchase Count</th> \n",
       "        <th class=\"col_heading level0 col2\" >Item Price</th> \n",
       "        <th class=\"col_heading level0 col3\" >Total Purchase Value</th> \n",
       "    </tr>    <tr> \n",
       "        <th class=\"index_name level0\" >Item ID</th> \n",
       "        <th class=\"blank\" ></th> \n",
       "        <th class=\"blank\" ></th> \n",
       "        <th class=\"blank\" ></th> \n",
       "        <th class=\"blank\" ></th> \n",
       "    </tr></thead> \n",
       "<tbody>    <tr> \n",
       "        <th id=\"T_f90a5818_16d7_11e9_b2c4_dca9047fe08dlevel0_row0\" class=\"row_heading level0 row0\" >178</th> \n",
       "        <td id=\"T_f90a5818_16d7_11e9_b2c4_dca9047fe08drow0_col0\" class=\"data row0 col0\" >Oathbreaker, Last Hope of the Breaking Storm</td> \n",
       "        <td id=\"T_f90a5818_16d7_11e9_b2c4_dca9047fe08drow0_col1\" class=\"data row0 col1\" >12</td> \n",
       "        <td id=\"T_f90a5818_16d7_11e9_b2c4_dca9047fe08drow0_col2\" class=\"data row0 col2\" >$4.23</td> \n",
       "        <td id=\"T_f90a5818_16d7_11e9_b2c4_dca9047fe08drow0_col3\" class=\"data row0 col3\" >$50.76</td> \n",
       "    </tr>    <tr> \n",
       "        <th id=\"T_f90a5818_16d7_11e9_b2c4_dca9047fe08dlevel0_row1\" class=\"row_heading level0 row1\" >82</th> \n",
       "        <td id=\"T_f90a5818_16d7_11e9_b2c4_dca9047fe08drow1_col0\" class=\"data row1 col0\" >Nirvana</td> \n",
       "        <td id=\"T_f90a5818_16d7_11e9_b2c4_dca9047fe08drow1_col1\" class=\"data row1 col1\" >9</td> \n",
       "        <td id=\"T_f90a5818_16d7_11e9_b2c4_dca9047fe08drow1_col2\" class=\"data row1 col2\" >$4.90</td> \n",
       "        <td id=\"T_f90a5818_16d7_11e9_b2c4_dca9047fe08drow1_col3\" class=\"data row1 col3\" >$44.10</td> \n",
       "    </tr>    <tr> \n",
       "        <th id=\"T_f90a5818_16d7_11e9_b2c4_dca9047fe08dlevel0_row2\" class=\"row_heading level0 row2\" >145</th> \n",
       "        <td id=\"T_f90a5818_16d7_11e9_b2c4_dca9047fe08drow2_col0\" class=\"data row2 col0\" >Fiery Glass Crusader</td> \n",
       "        <td id=\"T_f90a5818_16d7_11e9_b2c4_dca9047fe08drow2_col1\" class=\"data row2 col1\" >9</td> \n",
       "        <td id=\"T_f90a5818_16d7_11e9_b2c4_dca9047fe08drow2_col2\" class=\"data row2 col2\" >$4.58</td> \n",
       "        <td id=\"T_f90a5818_16d7_11e9_b2c4_dca9047fe08drow2_col3\" class=\"data row2 col3\" >$41.22</td> \n",
       "    </tr>    <tr> \n",
       "        <th id=\"T_f90a5818_16d7_11e9_b2c4_dca9047fe08dlevel0_row3\" class=\"row_heading level0 row3\" >92</th> \n",
       "        <td id=\"T_f90a5818_16d7_11e9_b2c4_dca9047fe08drow3_col0\" class=\"data row3 col0\" >Final Critic</td> \n",
       "        <td id=\"T_f90a5818_16d7_11e9_b2c4_dca9047fe08drow3_col1\" class=\"data row3 col1\" >8</td> \n",
       "        <td id=\"T_f90a5818_16d7_11e9_b2c4_dca9047fe08drow3_col2\" class=\"data row3 col2\" >$4.88</td> \n",
       "        <td id=\"T_f90a5818_16d7_11e9_b2c4_dca9047fe08drow3_col3\" class=\"data row3 col3\" >$39.04</td> \n",
       "    </tr>    <tr> \n",
       "        <th id=\"T_f90a5818_16d7_11e9_b2c4_dca9047fe08dlevel0_row4\" class=\"row_heading level0 row4\" >103</th> \n",
       "        <td id=\"T_f90a5818_16d7_11e9_b2c4_dca9047fe08drow4_col0\" class=\"data row4 col0\" >Singed Scalpel</td> \n",
       "        <td id=\"T_f90a5818_16d7_11e9_b2c4_dca9047fe08drow4_col1\" class=\"data row4 col1\" >8</td> \n",
       "        <td id=\"T_f90a5818_16d7_11e9_b2c4_dca9047fe08drow4_col2\" class=\"data row4 col2\" >$4.35</td> \n",
       "        <td id=\"T_f90a5818_16d7_11e9_b2c4_dca9047fe08drow4_col3\" class=\"data row4 col3\" >$34.80</td> \n",
       "    </tr></tbody> \n",
       "</table> "
      ],
      "text/plain": [
       "<pandas.io.formats.style.Styler at 0x115c09ba8>"
      ]
     },
     "execution_count": 12,
     "metadata": {},
     "output_type": "execute_result"
    }
   ],
   "source": [
    "most_profitable_df = popular_items.copy()\n",
    "most_profitable_df = most_profitable_df.sort_values(\"Total Purchase Value\", ascending=False)\n",
    "basicDFStyle(most_profitable_df.head(), [\"Item Price\", \"Total Purchase Value\"], [\"Item Name\"])"
   ]
  }
 ],
 "metadata": {
  "anaconda-cloud": {},
  "kernel_info": {
   "name": "python3"
  },
  "kernelspec": {
   "display_name": "Python 3",
   "language": "python",
   "name": "python3"
  },
  "language_info": {
   "codemirror_mode": {
    "name": "ipython",
    "version": 3
   },
   "file_extension": ".py",
   "mimetype": "text/x-python",
   "name": "python",
   "nbconvert_exporter": "python",
   "pygments_lexer": "ipython3",
   "version": "3.6.6"
  },
  "nteract": {
   "version": "0.2.0"
  }
 },
 "nbformat": 4,
 "nbformat_minor": 2
}
